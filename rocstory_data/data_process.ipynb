{
 "cells": [
  {
   "cell_type": "code",
   "execution_count": 4,
   "metadata": {},
   "outputs": [],
   "source": [
    "filename = 'test.txt'\n",
    "with open(filename, 'rt') as f:\n",
    "    lines = f.readlines()\n",
    "trimmed_lines = []\n",
    "for line in lines:\n",
    "    end = line.find('<EOL>') + 5\n",
    "    trimmed_lines.append(line[:end]+'\\n')\n",
    "with open(filename+'.generateinput', 'wt') as f:\n",
    "    f.writelines(trimmed_lines)"
   ]
  },
  {
   "cell_type": "code",
   "execution_count": 3,
   "metadata": {},
   "outputs": [],
   "source": [
    "filename = 'train.txt'\n",
    "with open(filename, 'rt') as f:\n",
    "    lines = f.readlines()\n",
    "trimmed_lines = []\n",
    "for line in lines:\n",
    "    end = line.find('<EOL>') + 5\n",
    "    trimmed_lines.append(line[:end]+'\\n')\n",
    "with open(filename+'.generateinput', 'wt') as f:\n",
    "    f.writelines(trimmed_lines)"
   ]
  }
 ],
 "metadata": {
  "kernelspec": {
   "display_name": "Python 3",
   "language": "python",
   "name": "python3"
  },
  "language_info": {
   "codemirror_mode": {
    "name": "ipython",
    "version": 3
   },
   "file_extension": ".py",
   "mimetype": "text/x-python",
   "name": "python",
   "nbconvert_exporter": "python",
   "pygments_lexer": "ipython3",
   "version": "3.7.4"
  }
 },
 "nbformat": 4,
 "nbformat_minor": 2
}
