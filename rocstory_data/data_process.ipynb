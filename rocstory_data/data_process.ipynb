{
 "cells": [
  {
   "cell_type": "code",
   "execution_count": 116,
   "metadata": {},
   "outputs": [],
   "source": [
    "import os\n",
    "import numpy as np\n",
    "import re\n",
    "np.random.seed(42)"
   ]
  },
  {
   "cell_type": "code",
   "execution_count": 3,
   "metadata": {},
   "outputs": [],
   "source": [
    "filename = 'test.txt'\n",
    "with open(filename, 'rt') as f:\n",
    "    lines = f.readlines()\n",
    "trimmed_lines = []\n",
    "for line in lines:\n",
    "    end = line.find('<EOL>') + 5\n",
    "    trimmed_lines.append(line[:end]+'\\n')\n",
    "with open(filename+'.generateinput', 'wt') as f:\n",
    "    f.writelines(trimmed_lines)"
   ]
  },
  {
   "cell_type": "code",
   "execution_count": null,
   "metadata": {},
   "outputs": [],
   "source": [
    "filename = 'train.txt'\n",
    "with open(filename, 'rt') as f:\n",
    "    lines = f.readlines()\n",
    "trimmed_lines = []\n",
    "for line in lines:\n",
    "    end = line.find('<EOL>') + 5\n",
    "    trimmed_lines.append(line[:end]+'\\n')\n",
    "with open(filename+'.generateinput', 'wt') as f:\n",
    "    f.writelines(trimmed_lines)"
   ]
  },
  {
   "cell_type": "markdown",
   "metadata": {},
   "source": [
    "# Generate random storylines and corresponding data\n",
    "storyline data path : ./rnd_storyline_data\n",
    "\n",
    "story data path : ./rnd_story_data"
   ]
  },
  {
   "cell_type": "code",
   "execution_count": 77,
   "metadata": {},
   "outputs": [],
   "source": [
    "filenames = ['train.txt', 'valid.txt', 'test.txt']"
   ]
  },
  {
   "cell_type": "code",
   "execution_count": 109,
   "metadata": {},
   "outputs": [],
   "source": [
    "# Find out rows which cannot be decoded using 'ascii' and\n",
    "# manually change it\n",
    "filename = 'train.txt'\n",
    "line_num = 0\n",
    "with open(filename, 'rb') as f:\n",
    "    lines = f.read()\n",
    "lines = lines.split(b'\\n')\n",
    "for i, line in enumerate(lines):\n",
    "    try:\n",
    "        line.decode('ascii')\n",
    "    except:\n",
    "        print(i)"
   ]
  },
  {
   "cell_type": "code",
   "execution_count": 118,
   "metadata": {},
   "outputs": [],
   "source": [
    "np.random.seed(42)\n",
    "storyline_output_dir = './rnd_storyline_data/'\n",
    "story_output_dir = './rnd_story_data/'\n",
    "title_length = []\n",
    "word_length = []\n",
    "for filename in filenames:\n",
    "    with open(filename, 'rt') as f:\n",
    "        lines = f.readlines()\n",
    "    title_length_one = []\n",
    "    word_length_one = []\n",
    "    out_lines = []\n",
    "    story_outlines = []\n",
    "    rnd_words_num = 2\n",
    "    for line in lines:\n",
    "        title = line[:line.find('<EOT>')].strip()\n",
    "        title_words = title.split(' ')\n",
    "        sentences = line[line.find('<EOL>')+5:].strip()\n",
    "        words = ' '.join([i.strip() for i in sentences.split('</s>') if len(i) >0]).split(' ')\n",
    "        words = [i for i in words if not i in ['.', ',', '?', '!']]\n",
    "        word_length_one.append(len(words))\n",
    "        title_length_one.append(len(title_words))\n",
    "        for rnd_iter in range(rnd_words_num):\n",
    "            rnd_words = np.random.choice(words, size=[min(10, len(words))], replace=False)\n",
    "            out_lines.append(title+' <EOT>'+' '+' '.join(rnd_words)+' <EOL>')\n",
    "            story_outlines.append(out_lines[-1]+' '+sentences[6:]+' </s>')\n",
    "    if not os.path.exists(storyline_output_dir):\n",
    "        os.makedirs(storyline_output_dir)\n",
    "    with open(os.path.join(storyline_output_dir, filename), 'wt') as f:\n",
    "        for i, line in enumerate(out_lines):\n",
    "            try:\n",
    "                f.write(line+'\\n')\n",
    "            except:\n",
    "                print(i, line)\n",
    "    if not os.path.exists(story_output_dir):\n",
    "        os.makedirs(story_output_dir)\n",
    "    with open(os.path.join(story_output_dir, filename), 'wt') as f:\n",
    "        for i, line in enumerate(story_outlines):\n",
    "            try:\n",
    "                f.write(line+'\\n')\n",
    "            except:\n",
    "                print(i, line)"
   ]
  },
  {
   "cell_type": "code",
   "execution_count": null,
   "metadata": {},
   "outputs": [],
   "source": [
    "for filename in filenames:\n",
    "    with open(os.path.join(story_output_dir, filename), 'rt') as f:\n",
    "        lines = f.readlines()\n",
    "    dot_num = []\n",
    "    for line in lines:\n",
    "        line = line[line.find('<EOL>'+5):]\n",
    "        "
   ]
  }
 ],
 "metadata": {
  "kernelspec": {
   "display_name": "Python 3",
   "language": "python",
   "name": "python3"
  },
  "language_info": {
   "codemirror_mode": {
    "name": "ipython",
    "version": 3
   },
   "file_extension": ".py",
   "mimetype": "text/x-python",
   "name": "python",
   "nbconvert_exporter": "python",
   "pygments_lexer": "ipython3",
   "version": "3.6.8"
  }
 },
 "nbformat": 4,
 "nbformat_minor": 2
}
